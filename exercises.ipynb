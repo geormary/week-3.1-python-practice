{
 "cells": [
  {
   "cell_type": "markdown",
   "metadata": {},
   "source": [
    "# Python Exercises\n",
    "\n",
    "### Exercise 1: Simple function\n",
    "\n",
    "Create a function called `greet` that takes a name as an argument and returns a greeting string saying \"Hello\" and using the given name.\n"
   ]
  },
  {
   "cell_type": "code",
   "execution_count": 4,
   "metadata": {},
   "outputs": [
    {
     "name": "stdout",
     "output_type": "stream",
     "text": [
      "Hello Alice\n",
      "Hello GeoBabe\n"
     ]
    }
   ],
   "source": [
    "\n",
    "# Your Code Here\n",
    "def greet(name= \"GeoBabe\"):\n",
    "    return f\"Hello {name}\"\n",
    "\n",
    "# Uncomment the invoked functions to Test\n",
    "print (greet(\"Alice\"))\n",
    "print (greet())\n",
    "# Should return \"Hello, Alice!\""
   ]
  },
  {
   "cell_type": "markdown",
   "metadata": {},
   "source": [
    "### Exercise 2: Function with if-else\n",
    "\n",
    "Create a function called `check_even_odd` that takes a number as an argument and returns \"Even\" if the number is even, and \"Odd\" if it's odd.\n",
    "\n",
    "\n"
   ]
  },
  {
   "cell_type": "code",
   "execution_count": 11,
   "metadata": {},
   "outputs": [
    {
     "name": "stdout",
     "output_type": "stream",
     "text": [
      "Even\n",
      "Odd\n"
     ]
    }
   ],
   "source": [
    "# Your Code Here\n",
    "def check_even_odd(num):\n",
    "    if num % 2 == 0:\n",
    "        print(\"Even\") \n",
    "    else:\n",
    "        print(\"Odd\")\n",
    "        \n",
    "\n",
    "# Uncomment the invoked functions to Test\n",
    "check_even_odd(4) \n",
    "# Should return \"Even\"\n",
    "\n",
    "check_even_odd(7)  \n",
    "# Should return \"Odd\""
   ]
  },
  {
   "cell_type": "markdown",
   "metadata": {},
   "source": [
    "### Exercise 3: Function with multiple conditions\n",
    "\n",
    "Create a function called `grade_scorer` that takes a score (0-100) as an argument and returns the corresponding letter grade: \"A\" for 90-100, \"B\" for 80-89, \"C\" for 70-79, \"D\" for 60-69, and \"F\" for below 60.\n",
    "\n",
    "\n",
    "\n"
   ]
  },
  {
   "cell_type": "code",
   "execution_count": 12,
   "metadata": {},
   "outputs": [
    {
     "name": "stdout",
     "output_type": "stream",
     "text": [
      "D\n"
     ]
    }
   ],
   "source": [
    "# Your Code Here\n",
    "def grade_scorer(score):\n",
    "    if score >= 90 and score <= 100:\n",
    "       return \"A\"\n",
    "    elif score >= 80 and score <= 89:\n",
    "       return \"B\"\n",
    "    elif score >= 70 and score <= 79:\n",
    "       return \"C\"\n",
    "    elif score >= 60 and score <= 69:\n",
    "       return \"D\"\n",
    "    elif score < 60:\n",
    "       return \"F\"\n",
    "\n",
    "\n",
    "\n",
    "# Uncomment the invoked functions to Test\n",
    "grade_scorer(95)  \n",
    "# Should return \"A\"\n",
    "\n",
    "grade_scorer(83)  \n",
    "# Should return \"B\"\n",
    "\n",
    "grade_scorer(72) \n",
    "# Should return \"C\"\n",
    "\n",
    "print(grade_scorer(65)) \n",
    "# Should return \"D\""
   ]
  },
  {
   "cell_type": "markdown",
   "metadata": {},
   "source": [
    "### Exercise 4: Function using logical operators\n",
    "\n",
    "Create a function called `login_check` that takes a username and password as arguments. Return True if the username is \"admin\" and the password is \"12345\", False otherwise.\n",
    "\n",
    "\n",
    "\n"
   ]
  },
  {
   "cell_type": "code",
   "execution_count": 18,
   "metadata": {},
   "outputs": [
    {
     "name": "stdout",
     "output_type": "stream",
     "text": [
      "True\n",
      "False\n"
     ]
    }
   ],
   "source": [
    "# Your Code Here\n",
    "def login_check(usr, password):\n",
    "    if usr == \"admin\" and password == \"12345\":\n",
    "        return True \n",
    "\n",
    "    return False\n",
    "# Uncomment the invoked functions to Test\n",
    "print(login_check(\"admin\", \"12345\") )\n",
    "# Should return True\n",
    "\n",
    "print(login_check(\"user\", \"pass\") )\n",
    "# Should return False"
   ]
  },
  {
   "cell_type": "markdown",
   "metadata": {},
   "source": [
    "### Exercise 5: Function with nested if statements\n",
    "\n",
    "Create a function called `number_description` that takes a number as an argument and returns \"Positive even\" for positive even numbers, \"Positive odd\" for positive odd numbers, \"Negative\" for negative numbers, and \"Zero\" for 0.\n",
    "\n",
    "\n",
    "\n"
   ]
  },
  {
   "cell_type": "code",
   "execution_count": 7,
   "metadata": {},
   "outputs": [
    {
     "data": {
      "text/plain": [
       "'Zero'"
      ]
     },
     "execution_count": 7,
     "metadata": {},
     "output_type": "execute_result"
    }
   ],
   "source": [
    "# Your Code Here\n",
    "\n",
    "def number_description(num):\n",
    "    if(num > 0 and num % 2 == 0):\n",
    "        return \"Positive even\"\n",
    "    if(num > 0 and num % 2 == 1):\n",
    "        return \"Positive odd\"\n",
    "    if(num < 0): \n",
    "        return \"Negative\"\n",
    "    if(num == 0 ):\n",
    "        return 'Zero'\n",
    "\n",
    "# Uncomment the invoked functions to Test\n",
    "# number_description(4)  \n",
    "# Should return \"Positive even\"\n",
    "\n",
    "# number_description(7)  \n",
    "# Should return \"Positive odd\"\n",
    "\n",
    "# number_description(-3) \n",
    "# Should return \"Negative\"\n",
    "\n",
    "number_description(0)  \n",
    "# Should return \"Zero\""
   ]
  },
  {
   "cell_type": "markdown",
   "metadata": {},
   "source": [
    "### Exercise 6: Function comparing Python to JavaScript syntax\n",
    "Rewrite the following JavaScript function in Python:\n",
    "\n",
    "```javascript\n",
    "function jsComparison(x, y) {\n",
    "    if (x === y) {\n",
    "        return \"Equal\";\n",
    "    } else if (x > y) {\n",
    "        return \"Greater\";\n",
    "    } else {\n",
    "        return \"Less\";\n",
    "    }\n",
    "}\n",
    "```\n",
    "\n",
    "\n",
    "\n"
   ]
  },
  {
   "cell_type": "code",
   "execution_count": 18,
   "metadata": {},
   "outputs": [
    {
     "data": {
      "text/plain": [
       "'Less'"
      ]
     },
     "execution_count": 18,
     "metadata": {},
     "output_type": "execute_result"
    }
   ],
   "source": [
    "# Your Code Here\n",
    "def js_comparison(x= int, y= int):\n",
    "    if(x == y):\n",
    "        return 'Equal'\n",
    "    elif(x > y):\n",
    "        return 'Greater'\n",
    "    else:\n",
    "        return 'Less'\n",
    "\n",
    "# Uncomment the invoked functions to Test\n",
    "# js_comparison(5, 5)\n",
    "# Should return \"Equal\"\n",
    "\n",
    "# js_comparison(10, 5) \n",
    "# Should return \"Greater\"\n",
    "\n",
    "js_comparison(3, 8) \n",
    "# Should return \"Less\""
   ]
  },
  {
   "cell_type": "markdown",
   "metadata": {},
   "source": [
    "### Exercise 7: Function using 'and' operator\n",
    "Create a function called `is_valid_triangle` that takes three side lengths as arguments and returns True if they can form a valid triangle (sum of any two sides > third side), False otherwise.\n",
    "\n",
    "\n",
    "\n",
    "\n"
   ]
  },
  {
   "cell_type": "code",
   "execution_count": 29,
   "metadata": {},
   "outputs": [
    {
     "data": {
      "text/plain": [
       "False"
      ]
     },
     "execution_count": 29,
     "metadata": {},
     "output_type": "execute_result"
    }
   ],
   "source": [
    "# Your Code Here\n",
    "def is_valid_triangle(x, y, z):\n",
    "    if (x + y > z):\n",
    "        return True \n",
    "    else: \n",
    "        return False \n",
    "\n",
    "# Uncomment the invoked functions to Test\n",
    "is_valid_triangle(3, 4, 5)\n",
    "# Should return True\n",
    "\n",
    "is_valid_triangle(1, 1, 2)  \n",
    "# Should return False"
   ]
  },
  {
   "cell_type": "markdown",
   "metadata": {},
   "source": [
    "### Exercise 8: Function using 'or' operator\n",
    "\n",
    "Create a function called `can_vote` that takes age and citizenship as arguments. Return True if age is 18 or above AND citizenship is \"USA\" or \"Canada\", False otherwise.\n"
   ]
  },
  {
   "cell_type": "code",
   "execution_count": 41,
   "metadata": {},
   "outputs": [
    {
     "data": {
      "text/plain": [
       "False"
      ]
     },
     "execution_count": 41,
     "metadata": {},
     "output_type": "execute_result"
    }
   ],
   "source": [
    "# Your Code Here\n",
    "def can_vote(a = int , b = str):\n",
    "    if a >= 18 and b == (\"Canada\" or \"USA\"):\n",
    "        return True \n",
    "    else: \n",
    "        return False \n",
    "\n",
    "\n",
    "# Uncomment the invoked functions to Test\n",
    "# can_vote(20, \"USA\")  \n",
    "# Should return True\n",
    "\n",
    "can_vote(16, \"Canada\")  \n",
    "# Should return False"
   ]
  },
  {
   "cell_type": "markdown",
   "metadata": {},
   "source": [
    "### Exercise 9: Function using 'not' operator\n",
    "Create a function called `is_not_in_range` that takes three arguments: num, start, and end. Return True if num is NOT between start and end (inclusive), False otherwise.\n",
    "\n",
    "\n",
    "\n"
   ]
  },
  {
   "cell_type": "code",
   "execution_count": 42,
   "metadata": {},
   "outputs": [
    {
     "data": {
      "text/plain": [
       "False"
      ]
     },
     "execution_count": 43,
     "metadata": {},
     "output_type": "execute_result"
    }
   ],
   "source": [
    "\n",
    "# Your Code Here\n",
    "def is_not_in_range(num, start, end):\n",
    "    if(num < start and num > end):\n",
    "        return True\n",
    "    else:\n",
    "        return False \n",
    "\n",
    "\n",
    "# Uncomment the invoked functions to Test\n",
    "# is_not_in_range(3, 2, 4) \n",
    "# Should return False\n",
    "\n",
    "is_not_in_range(10, 2, 8)  \n",
    "# Should return True"
   ]
  },
  {
   "cell_type": "markdown",
   "metadata": {},
   "source": [
    "### Exercise 10: Function combining multiple concepts\n",
    "\n",
    "Create a function called `calculate_ticket_price` that takes age, day, and is_student as arguments. Calculate the ticket price based on these rules:\n",
    "- Base price is $10\n",
    "- If it's a weekend (day is \"Saturday\" or \"Sunday\"), add $5\n",
    "- If age is under 18 or over 65, apply a 20% discount\n",
    "- If is_student is True and it's not a weekend, apply a 10% discount\n",
    "Return the final ticket price.\n"
   ]
  },
  {
   "cell_type": "code",
   "execution_count": 67,
   "metadata": {},
   "outputs": [
    {
     "name": "stdout",
     "output_type": "stream",
     "text": [
      "current $10.0\n",
      "price after change $10.0\n"
     ]
    },
    {
     "data": {
      "text/plain": [
       "10.0"
      ]
     },
     "execution_count": 67,
     "metadata": {},
     "output_type": "execute_result"
    }
   ],
   "source": [
    "# Your Code Here\n",
    "def calculate_ticket_price(age, day, is_student):\n",
    "    price = 10.00\n",
    "\n",
    "    if day in (\"Saturday\", \"Sunday\"):\n",
    "        print(f\"current ${price}\")\n",
    "        price + 5 \n",
    "        print(f\"price after change ${price}\")\n",
    "    # if age < 18 or age >= 65:\n",
    "    #     price - (price*.02)\n",
    "    #     return price \n",
    "    # if is_student == True and day not in \"Saturday\" or \"Sunday\":\n",
    "    #     print(\"here\")\n",
    "    #     price - (price*.01)\n",
    "    #     return price \n",
    "    return price   \n",
    "\n",
    "# Uncomment the invoked functions to Test\n",
    "# calculate_ticket_price(25, \"Monday\", True)\n",
    "# Should return $9.00\n",
    "\n",
    "calculate_ticket_price(70, \"Sunday\", False)\n",
    "# Should return $15.00"
   ]
  },
  {
   "cell_type": "code",
   "execution_count": null,
   "metadata": {},
   "outputs": [],
   "source": []
  }
 ],
 "metadata": {
  "kernelspec": {
   "display_name": ".venv",
   "language": "python",
   "name": "python3"
  },
  "language_info": {
   "codemirror_mode": {
    "name": "ipython",
    "version": 3
   },
   "file_extension": ".py",
   "mimetype": "text/x-python",
   "name": "python",
   "nbconvert_exporter": "python",
   "pygments_lexer": "ipython3",
   "version": "3.9.6"
  }
 },
 "nbformat": 4,
 "nbformat_minor": 2
}
